{
 "cells": [
  {
   "cell_type": "code",
   "execution_count": 2,
   "id": "87a4d230-3c5b-4104-a451-05ba71098a36",
   "metadata": {
    "tags": []
   },
   "outputs": [],
   "source": [
    "import random"
   ]
  },
  {
   "cell_type": "code",
   "execution_count": 6,
   "id": "f3de37cf-5b00-401f-9a34-4b43b6935123",
   "metadata": {
    "tags": []
   },
   "outputs": [
    {
     "name": "stdout",
     "output_type": "stream",
     "text": [
      "The verse of the day is: Psalm 24:2 For he founded it on the seas and established it on the waters.\n",
      "\n"
     ]
    }
   ],
   "source": [
    "def random_verse():\n",
    "    verses=10                                   #the number of verses \n",
    "    list=[]                                     #creates an empty list\n",
    "    file=open('psalm24.txt','r')                #opens the text file\n",
    "    random_num=random.randrange(0,verses-1,1)   #gives a random number\n",
    "    for count in file:                          #its storing ever line in the loop to the list\n",
    "        list.append(count)                      #addig to the list\n",
    "    random_verse=list[random_num]               #giving a random element in the list\n",
    "    print(f'The verse of the day is: Psalm 24:{random_verse}') #printing the verse\n",
    "    \n",
    "    file.close()                                 #closing the file\n",
    "    \n",
    "    file=open('output.txt','a')                 #opens and creates a new file named output.txt in append mode\n",
    "    file.write(random_verse)                    #writes the random verse to the file\n",
    "    file.close()                                #closes the file\n",
    "    \n",
    "    \n",
    "random_verse()\n",
    "    "
   ]
  }
 ],
 "metadata": {
  "kernelspec": {
   "display_name": "Python 3 (ipykernel)",
   "language": "python",
   "name": "python3"
  },
  "language_info": {
   "codemirror_mode": {
    "name": "ipython",
    "version": 3
   },
   "file_extension": ".py",
   "mimetype": "text/x-python",
   "name": "python",
   "nbconvert_exporter": "python",
   "pygments_lexer": "ipython3",
   "version": "3.11.5"
  }
 },
 "nbformat": 4,
 "nbformat_minor": 5
}
